{
 "cells": [
  {
   "cell_type": "code",
   "execution_count": 1,
   "id": "01c2de26",
   "metadata": {},
   "outputs": [],
   "source": [
    "import pandas as pd"
   ]
  },
  {
   "cell_type": "code",
   "execution_count": 2,
   "id": "1cbdb31c",
   "metadata": {},
   "outputs": [],
   "source": [
    "DATA_FOLDER = '../data'\n",
    "gas_timeseries = pd.read_csv(f'{DATA_FOLDER}/BrentOilPrices.csv')"
   ]
  },
  {
   "cell_type": "code",
   "execution_count": 3,
   "id": "0f3735c9",
   "metadata": {},
   "outputs": [
    {
     "name": "stderr",
     "output_type": "stream",
     "text": [
      "/tmp/ipykernel_9830/3382008160.py:1: UserWarning: Could not infer format, so each element will be parsed individually, falling back to `dateutil`. To ensure parsing is consistent and as-expected, please specify a format.\n",
      "  gas_timeseries['Date'] = pd.to_datetime(gas_timeseries['Date'])\n"
     ]
    }
   ],
   "source": [
    "gas_timeseries['Date'] = pd.to_datetime(gas_timeseries['Date'])"
   ]
  },
  {
   "cell_type": "code",
   "execution_count": 4,
   "id": "a1a38bb5",
   "metadata": {},
   "outputs": [],
   "source": [
    "events = pd.read_csv(f'{DATA_FOLDER}/events.csv')"
   ]
  }
 ],
 "metadata": {
  "kernelspec": {
   "display_name": ".venv",
   "language": "python",
   "name": "python3"
  },
  "language_info": {
   "codemirror_mode": {
    "name": "ipython",
    "version": 3
   },
   "file_extension": ".py",
   "mimetype": "text/x-python",
   "name": "python",
   "nbconvert_exporter": "python",
   "pygments_lexer": "ipython3",
   "version": "3.13.5"
  }
 },
 "nbformat": 4,
 "nbformat_minor": 5
}
